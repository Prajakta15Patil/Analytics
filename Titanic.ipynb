{
 "cells": [
  {
   "cell_type": "code",
   "execution_count": 1842,
   "metadata": {},
   "outputs": [
    {
     "name": "stderr",
     "output_type": "stream",
     "text": [
      "Using TensorFlow backend.\n"
     ]
    }
   ],
   "source": [
    "%matplotlib inline\n",
    "import pandas as pd\n",
    "import numpy as np\n",
    "import matplotlib.pyplot as plt\n",
    "from sklearn.linear_model import LinearRegression\n",
    "from sklearn.cross_validation import train_test_split\n",
    "from sklearn.preprocessing import StandardScaler\n",
    "import seaborn as sns\n",
    "import keras\n",
    "figsize=(10,10)"
   ]
  },
  {
   "cell_type": "code",
   "execution_count": 1810,
   "metadata": {},
   "outputs": [
    {
     "data": {
      "text/html": [
       "<div>\n",
       "<style>\n",
       "    .dataframe thead tr:only-child th {\n",
       "        text-align: right;\n",
       "    }\n",
       "\n",
       "    .dataframe thead th {\n",
       "        text-align: left;\n",
       "    }\n",
       "\n",
       "    .dataframe tbody tr th {\n",
       "        vertical-align: top;\n",
       "    }\n",
       "</style>\n",
       "<table border=\"1\" class=\"dataframe\">\n",
       "  <thead>\n",
       "    <tr style=\"text-align: right;\">\n",
       "      <th></th>\n",
       "      <th>PassengerId</th>\n",
       "      <th>Survived</th>\n",
       "      <th>Pclass</th>\n",
       "      <th>Name</th>\n",
       "      <th>Sex</th>\n",
       "      <th>Age</th>\n",
       "      <th>SibSp</th>\n",
       "      <th>Parch</th>\n",
       "      <th>Ticket</th>\n",
       "      <th>Fare</th>\n",
       "      <th>Cabin</th>\n",
       "      <th>Embarked</th>\n",
       "      <th>Dataset</th>\n",
       "    </tr>\n",
       "  </thead>\n",
       "  <tbody>\n",
       "    <tr>\n",
       "      <th>0</th>\n",
       "      <td>1</td>\n",
       "      <td>0</td>\n",
       "      <td>3</td>\n",
       "      <td>Braund, Mr. Owen Harris</td>\n",
       "      <td>male</td>\n",
       "      <td>22.0</td>\n",
       "      <td>1</td>\n",
       "      <td>0</td>\n",
       "      <td>A/5 21171</td>\n",
       "      <td>7.2500</td>\n",
       "      <td>NaN</td>\n",
       "      <td>S</td>\n",
       "      <td>Training Dataset</td>\n",
       "    </tr>\n",
       "    <tr>\n",
       "      <th>1</th>\n",
       "      <td>2</td>\n",
       "      <td>1</td>\n",
       "      <td>1</td>\n",
       "      <td>Cumings, Mrs. John Bradley (Florence Briggs Th...</td>\n",
       "      <td>female</td>\n",
       "      <td>38.0</td>\n",
       "      <td>1</td>\n",
       "      <td>0</td>\n",
       "      <td>PC 17599</td>\n",
       "      <td>71.2833</td>\n",
       "      <td>C85</td>\n",
       "      <td>C</td>\n",
       "      <td>Training Dataset</td>\n",
       "    </tr>\n",
       "    <tr>\n",
       "      <th>2</th>\n",
       "      <td>3</td>\n",
       "      <td>1</td>\n",
       "      <td>3</td>\n",
       "      <td>Heikkinen, Miss. Laina</td>\n",
       "      <td>female</td>\n",
       "      <td>26.0</td>\n",
       "      <td>0</td>\n",
       "      <td>0</td>\n",
       "      <td>STON/O2. 3101282</td>\n",
       "      <td>7.9250</td>\n",
       "      <td>NaN</td>\n",
       "      <td>S</td>\n",
       "      <td>Training Dataset</td>\n",
       "    </tr>\n",
       "  </tbody>\n",
       "</table>\n",
       "</div>"
      ],
      "text/plain": [
       "   PassengerId Survived Pclass  \\\n",
       "0            1        0      3   \n",
       "1            2        1      1   \n",
       "2            3        1      3   \n",
       "\n",
       "                                                Name     Sex   Age  SibSp  \\\n",
       "0                            Braund, Mr. Owen Harris    male  22.0      1   \n",
       "1  Cumings, Mrs. John Bradley (Florence Briggs Th...  female  38.0      1   \n",
       "2                             Heikkinen, Miss. Laina  female  26.0      0   \n",
       "\n",
       "   Parch            Ticket     Fare Cabin Embarked           Dataset  \n",
       "0      0         A/5 21171   7.2500   NaN        S  Training Dataset  \n",
       "1      0          PC 17599  71.2833   C85        C  Training Dataset  \n",
       "2      0  STON/O2. 3101282   7.9250   NaN        S  Training Dataset  "
      ]
     },
     "execution_count": 1810,
     "metadata": {},
     "output_type": "execute_result"
    }
   ],
   "source": [
    "data = pd.read_csv(\"H:\\KaggleCompetitions\\Titanic\\\\train.csv\")\n",
    "data['Pclass']=data['Pclass'].astype('category')\n",
    "data['Survived']=data['Survived'].astype('category')\n",
    "data['Sex']=data['Sex'].astype('category')\n",
    "data['Embarked']=data['Embarked'].astype('category')\n",
    "data['Dataset'] = 'Training Dataset'\n",
    "data.dropna(subset=['Embarked'],axis=0,inplace=True)\n",
    "#data.drop(['Ticket','Cabin'],axis=1,inplace=True)\n",
    "data.head(3)\n"
   ]
  },
  {
   "cell_type": "code",
   "execution_count": 1811,
   "metadata": {},
   "outputs": [
    {
     "data": {
      "text/plain": [
       "Embarked  Pclass\n",
       "C         1         104.718529\n",
       "          2          25.358335\n",
       "          3          11.214083\n",
       "Q         1          90.000000\n",
       "          2          12.350000\n",
       "          3          11.183393\n",
       "S         1          70.364862\n",
       "          2          20.327439\n",
       "          3          14.644083\n",
       "Name: Fare, dtype: float64"
      ]
     },
     "execution_count": 1811,
     "metadata": {},
     "output_type": "execute_result"
    }
   ],
   "source": [
    "data.groupby([\"Embarked\",\"Pclass\"])['Fare'].mean()"
   ]
  },
  {
   "cell_type": "code",
   "execution_count": 1812,
   "metadata": {},
   "outputs": [
    {
     "data": {
      "text/html": [
       "<div>\n",
       "<style>\n",
       "    .dataframe thead tr:only-child th {\n",
       "        text-align: right;\n",
       "    }\n",
       "\n",
       "    .dataframe thead th {\n",
       "        text-align: left;\n",
       "    }\n",
       "\n",
       "    .dataframe tbody tr th {\n",
       "        vertical-align: top;\n",
       "    }\n",
       "</style>\n",
       "<table border=\"1\" class=\"dataframe\">\n",
       "  <thead>\n",
       "    <tr style=\"text-align: right;\">\n",
       "      <th></th>\n",
       "      <th>PassengerId</th>\n",
       "      <th>Survived</th>\n",
       "      <th>Pclass</th>\n",
       "      <th>Name</th>\n",
       "      <th>Sex</th>\n",
       "      <th>Age</th>\n",
       "      <th>SibSp</th>\n",
       "      <th>Parch</th>\n",
       "      <th>Ticket</th>\n",
       "      <th>Fare</th>\n",
       "      <th>Cabin</th>\n",
       "      <th>Embarked</th>\n",
       "      <th>Dataset</th>\n",
       "    </tr>\n",
       "  </thead>\n",
       "  <tbody>\n",
       "    <tr>\n",
       "      <th>0</th>\n",
       "      <td>1</td>\n",
       "      <td>0</td>\n",
       "      <td>3</td>\n",
       "      <td>Braund, Mr. Owen Harris</td>\n",
       "      <td>male</td>\n",
       "      <td>22.0</td>\n",
       "      <td>1</td>\n",
       "      <td>0</td>\n",
       "      <td>A/5 21171</td>\n",
       "      <td>7.2500</td>\n",
       "      <td>NaN</td>\n",
       "      <td>S</td>\n",
       "      <td>Training Dataset</td>\n",
       "    </tr>\n",
       "    <tr>\n",
       "      <th>1</th>\n",
       "      <td>2</td>\n",
       "      <td>1</td>\n",
       "      <td>1</td>\n",
       "      <td>Cumings, Mrs. John Bradley (Florence Briggs Th...</td>\n",
       "      <td>female</td>\n",
       "      <td>38.0</td>\n",
       "      <td>1</td>\n",
       "      <td>0</td>\n",
       "      <td>PC 17599</td>\n",
       "      <td>71.2833</td>\n",
       "      <td>C85</td>\n",
       "      <td>C</td>\n",
       "      <td>Training Dataset</td>\n",
       "    </tr>\n",
       "    <tr>\n",
       "      <th>2</th>\n",
       "      <td>3</td>\n",
       "      <td>1</td>\n",
       "      <td>3</td>\n",
       "      <td>Heikkinen, Miss. Laina</td>\n",
       "      <td>female</td>\n",
       "      <td>26.0</td>\n",
       "      <td>0</td>\n",
       "      <td>0</td>\n",
       "      <td>STON/O2. 3101282</td>\n",
       "      <td>7.9250</td>\n",
       "      <td>NaN</td>\n",
       "      <td>S</td>\n",
       "      <td>Training Dataset</td>\n",
       "    </tr>\n",
       "  </tbody>\n",
       "</table>\n",
       "</div>"
      ],
      "text/plain": [
       "   PassengerId Survived Pclass  \\\n",
       "0            1        0      3   \n",
       "1            2        1      1   \n",
       "2            3        1      3   \n",
       "\n",
       "                                                Name     Sex   Age  SibSp  \\\n",
       "0                            Braund, Mr. Owen Harris    male  22.0      1   \n",
       "1  Cumings, Mrs. John Bradley (Florence Briggs Th...  female  38.0      1   \n",
       "2                             Heikkinen, Miss. Laina  female  26.0      0   \n",
       "\n",
       "   Parch            Ticket     Fare Cabin Embarked           Dataset  \n",
       "0      0         A/5 21171   7.2500   NaN        S  Training Dataset  \n",
       "1      0          PC 17599  71.2833   C85        C  Training Dataset  \n",
       "2      0  STON/O2. 3101282   7.9250   NaN        S  Training Dataset  "
      ]
     },
     "execution_count": 1812,
     "metadata": {},
     "output_type": "execute_result"
    }
   ],
   "source": [
    "data[\"Embarked\"].fillna('S')\n",
    "data.head(3)"
   ]
  },
  {
   "cell_type": "code",
   "execution_count": 1813,
   "metadata": {},
   "outputs": [
    {
     "data": {
      "text/html": [
       "<div>\n",
       "<style>\n",
       "    .dataframe thead tr:only-child th {\n",
       "        text-align: right;\n",
       "    }\n",
       "\n",
       "    .dataframe thead th {\n",
       "        text-align: left;\n",
       "    }\n",
       "\n",
       "    .dataframe tbody tr th {\n",
       "        vertical-align: top;\n",
       "    }\n",
       "</style>\n",
       "<table border=\"1\" class=\"dataframe\">\n",
       "  <thead>\n",
       "    <tr style=\"text-align: right;\">\n",
       "      <th></th>\n",
       "      <th>PassengerId</th>\n",
       "      <th>Pclass</th>\n",
       "      <th>Name</th>\n",
       "      <th>Sex</th>\n",
       "      <th>Age</th>\n",
       "      <th>SibSp</th>\n",
       "      <th>Parch</th>\n",
       "      <th>Ticket</th>\n",
       "      <th>Fare</th>\n",
       "      <th>Cabin</th>\n",
       "      <th>Embarked</th>\n",
       "      <th>Survived</th>\n",
       "      <th>Dataset</th>\n",
       "    </tr>\n",
       "  </thead>\n",
       "  <tbody>\n",
       "    <tr>\n",
       "      <th>0</th>\n",
       "      <td>892</td>\n",
       "      <td>3</td>\n",
       "      <td>Kelly, Mr. James</td>\n",
       "      <td>male</td>\n",
       "      <td>34.5</td>\n",
       "      <td>0</td>\n",
       "      <td>0</td>\n",
       "      <td>330911</td>\n",
       "      <td>7.8292</td>\n",
       "      <td>NaN</td>\n",
       "      <td>Q</td>\n",
       "      <td>0</td>\n",
       "      <td>Test Dataset</td>\n",
       "    </tr>\n",
       "    <tr>\n",
       "      <th>1</th>\n",
       "      <td>893</td>\n",
       "      <td>3</td>\n",
       "      <td>Wilkes, Mrs. James (Ellen Needs)</td>\n",
       "      <td>female</td>\n",
       "      <td>47.0</td>\n",
       "      <td>1</td>\n",
       "      <td>0</td>\n",
       "      <td>363272</td>\n",
       "      <td>7.0000</td>\n",
       "      <td>NaN</td>\n",
       "      <td>S</td>\n",
       "      <td>1</td>\n",
       "      <td>Test Dataset</td>\n",
       "    </tr>\n",
       "    <tr>\n",
       "      <th>2</th>\n",
       "      <td>894</td>\n",
       "      <td>2</td>\n",
       "      <td>Myles, Mr. Thomas Francis</td>\n",
       "      <td>male</td>\n",
       "      <td>62.0</td>\n",
       "      <td>0</td>\n",
       "      <td>0</td>\n",
       "      <td>240276</td>\n",
       "      <td>9.6875</td>\n",
       "      <td>NaN</td>\n",
       "      <td>Q</td>\n",
       "      <td>0</td>\n",
       "      <td>Test Dataset</td>\n",
       "    </tr>\n",
       "  </tbody>\n",
       "</table>\n",
       "</div>"
      ],
      "text/plain": [
       "   PassengerId  Pclass                              Name     Sex   Age  SibSp  \\\n",
       "0          892       3                  Kelly, Mr. James    male  34.5      0   \n",
       "1          893       3  Wilkes, Mrs. James (Ellen Needs)  female  47.0      1   \n",
       "2          894       2         Myles, Mr. Thomas Francis    male  62.0      0   \n",
       "\n",
       "   Parch  Ticket    Fare Cabin Embarked  Survived       Dataset  \n",
       "0      0  330911  7.8292   NaN        Q         0  Test Dataset  \n",
       "1      0  363272  7.0000   NaN        S         1  Test Dataset  \n",
       "2      0  240276  9.6875   NaN        Q         0  Test Dataset  "
      ]
     },
     "execution_count": 1813,
     "metadata": {},
     "output_type": "execute_result"
    }
   ],
   "source": [
    "test = pd.read_csv(\"H:\\KaggleCompetitions\\Titanic\\\\test.csv\")\n",
    "survival= pd.read_csv(\"H:\\KaggleCompetitions\\Titanic\\\\gender_submission.csv\")\n",
    "test = pd.merge(test,survival, how=\"inner\", on=\"PassengerId\")\n",
    "test['Dataset'] = 'Test Dataset'\n",
    "test.head(3)"
   ]
  },
  {
   "cell_type": "code",
   "execution_count": 1814,
   "metadata": {},
   "outputs": [
    {
     "data": {
      "text/plain": [
       "PassengerId      0\n",
       "Survived         0\n",
       "Pclass           0\n",
       "Name             0\n",
       "Sex              0\n",
       "Age            177\n",
       "SibSp            0\n",
       "Parch            0\n",
       "Ticket           0\n",
       "Fare             0\n",
       "Cabin          687\n",
       "Embarked         0\n",
       "Dataset          0\n",
       "dtype: int64"
      ]
     },
     "execution_count": 1814,
     "metadata": {},
     "output_type": "execute_result"
    }
   ],
   "source": [
    "data.isnull().sum()"
   ]
  },
  {
   "cell_type": "code",
   "execution_count": 1815,
   "metadata": {},
   "outputs": [
    {
     "data": {
      "text/plain": [
       "PassengerId      0\n",
       "Pclass           0\n",
       "Name             0\n",
       "Sex              0\n",
       "Age             86\n",
       "SibSp            0\n",
       "Parch            0\n",
       "Ticket           0\n",
       "Fare             1\n",
       "Cabin          327\n",
       "Embarked         0\n",
       "Survived         0\n",
       "Dataset          0\n",
       "dtype: int64"
      ]
     },
     "execution_count": 1815,
     "metadata": {},
     "output_type": "execute_result"
    }
   ],
   "source": [
    "test.isnull().sum()"
   ]
  },
  {
   "cell_type": "code",
   "execution_count": 1816,
   "metadata": {},
   "outputs": [
    {
     "data": {
      "text/html": [
       "<div>\n",
       "<style>\n",
       "    .dataframe thead tr:only-child th {\n",
       "        text-align: right;\n",
       "    }\n",
       "\n",
       "    .dataframe thead th {\n",
       "        text-align: left;\n",
       "    }\n",
       "\n",
       "    .dataframe tbody tr th {\n",
       "        vertical-align: top;\n",
       "    }\n",
       "</style>\n",
       "<table border=\"1\" class=\"dataframe\">\n",
       "  <thead>\n",
       "    <tr style=\"text-align: right;\">\n",
       "      <th></th>\n",
       "      <th>PassengerId</th>\n",
       "      <th>Pclass</th>\n",
       "      <th>Name</th>\n",
       "      <th>Sex</th>\n",
       "      <th>Age</th>\n",
       "      <th>SibSp</th>\n",
       "      <th>Parch</th>\n",
       "      <th>Ticket</th>\n",
       "      <th>Fare</th>\n",
       "      <th>Cabin</th>\n",
       "      <th>Embarked</th>\n",
       "      <th>Survived</th>\n",
       "      <th>Dataset</th>\n",
       "    </tr>\n",
       "  </thead>\n",
       "  <tbody>\n",
       "    <tr>\n",
       "      <th>152</th>\n",
       "      <td>1044</td>\n",
       "      <td>3</td>\n",
       "      <td>Storey, Mr. Thomas</td>\n",
       "      <td>male</td>\n",
       "      <td>60.5</td>\n",
       "      <td>0</td>\n",
       "      <td>0</td>\n",
       "      <td>3701</td>\n",
       "      <td>12.459678</td>\n",
       "      <td>NaN</td>\n",
       "      <td>S</td>\n",
       "      <td>0</td>\n",
       "      <td>Test Dataset</td>\n",
       "    </tr>\n",
       "  </tbody>\n",
       "</table>\n",
       "</div>"
      ],
      "text/plain": [
       "     PassengerId  Pclass                Name   Sex   Age  SibSp  Parch Ticket  \\\n",
       "152         1044       3  Storey, Mr. Thomas  male  60.5      0      0   3701   \n",
       "\n",
       "          Fare Cabin Embarked  Survived       Dataset  \n",
       "152  12.459678   NaN        S         0  Test Dataset  "
      ]
     },
     "execution_count": 1816,
     "metadata": {},
     "output_type": "execute_result"
    }
   ],
   "source": [
    "test[\"Fare\"] = test.groupby(by = [\"Pclass\"])[\"Fare\"].transform(lambda x:x.fillna(x.mean()))\n",
    "test[test[\"PassengerId\"]==1044]"
   ]
  },
  {
   "cell_type": "code",
   "execution_count": 1817,
   "metadata": {},
   "outputs": [
    {
     "data": {
      "text/html": [
       "<div>\n",
       "<style>\n",
       "    .dataframe thead tr:only-child th {\n",
       "        text-align: right;\n",
       "    }\n",
       "\n",
       "    .dataframe thead th {\n",
       "        text-align: left;\n",
       "    }\n",
       "\n",
       "    .dataframe tbody tr th {\n",
       "        vertical-align: top;\n",
       "    }\n",
       "</style>\n",
       "<table border=\"1\" class=\"dataframe\">\n",
       "  <thead>\n",
       "    <tr style=\"text-align: right;\">\n",
       "      <th></th>\n",
       "      <th>Age</th>\n",
       "      <th>Cabin</th>\n",
       "      <th>Dataset</th>\n",
       "      <th>Embarked</th>\n",
       "      <th>Fare</th>\n",
       "      <th>Name</th>\n",
       "      <th>Parch</th>\n",
       "      <th>PassengerId</th>\n",
       "      <th>Pclass</th>\n",
       "      <th>Sex</th>\n",
       "      <th>SibSp</th>\n",
       "      <th>Survived</th>\n",
       "      <th>Ticket</th>\n",
       "      <th>Title</th>\n",
       "    </tr>\n",
       "  </thead>\n",
       "  <tbody>\n",
       "    <tr>\n",
       "      <th>0</th>\n",
       "      <td>22.0</td>\n",
       "      <td>NaN</td>\n",
       "      <td>Training Dataset</td>\n",
       "      <td>S</td>\n",
       "      <td>7.2500</td>\n",
       "      <td>Braund, Mr. Owen Harris</td>\n",
       "      <td>0</td>\n",
       "      <td>1</td>\n",
       "      <td>3</td>\n",
       "      <td>male</td>\n",
       "      <td>1</td>\n",
       "      <td>0</td>\n",
       "      <td>A/5 21171</td>\n",
       "      <td>Mr</td>\n",
       "    </tr>\n",
       "    <tr>\n",
       "      <th>1</th>\n",
       "      <td>38.0</td>\n",
       "      <td>C85</td>\n",
       "      <td>Training Dataset</td>\n",
       "      <td>C</td>\n",
       "      <td>71.2833</td>\n",
       "      <td>Cumings, Mrs. John Bradley (Florence Briggs Th...</td>\n",
       "      <td>0</td>\n",
       "      <td>2</td>\n",
       "      <td>1</td>\n",
       "      <td>female</td>\n",
       "      <td>1</td>\n",
       "      <td>1</td>\n",
       "      <td>PC 17599</td>\n",
       "      <td>Mrs</td>\n",
       "    </tr>\n",
       "    <tr>\n",
       "      <th>2</th>\n",
       "      <td>26.0</td>\n",
       "      <td>NaN</td>\n",
       "      <td>Training Dataset</td>\n",
       "      <td>S</td>\n",
       "      <td>7.9250</td>\n",
       "      <td>Heikkinen, Miss. Laina</td>\n",
       "      <td>0</td>\n",
       "      <td>3</td>\n",
       "      <td>3</td>\n",
       "      <td>female</td>\n",
       "      <td>0</td>\n",
       "      <td>1</td>\n",
       "      <td>STON/O2. 3101282</td>\n",
       "      <td>Miss</td>\n",
       "    </tr>\n",
       "  </tbody>\n",
       "</table>\n",
       "</div>"
      ],
      "text/plain": [
       "    Age Cabin           Dataset Embarked     Fare  \\\n",
       "0  22.0   NaN  Training Dataset        S   7.2500   \n",
       "1  38.0   C85  Training Dataset        C  71.2833   \n",
       "2  26.0   NaN  Training Dataset        S   7.9250   \n",
       "\n",
       "                                                Name  Parch  PassengerId  \\\n",
       "0                            Braund, Mr. Owen Harris      0            1   \n",
       "1  Cumings, Mrs. John Bradley (Florence Briggs Th...      0            2   \n",
       "2                             Heikkinen, Miss. Laina      0            3   \n",
       "\n",
       "   Pclass     Sex  SibSp  Survived            Ticket  Title  \n",
       "0       3    male      1         0         A/5 21171     Mr  \n",
       "1       1  female      1         1          PC 17599    Mrs  \n",
       "2       3  female      0         1  STON/O2. 3101282   Miss  "
      ]
     },
     "execution_count": 1817,
     "metadata": {},
     "output_type": "execute_result"
    }
   ],
   "source": [
    "train_test_data = pd.concat([data,test])\n",
    "train_test_data['Title']=train_test_data['Name'].str.partition(',')[2].str.partition('.')[0]\n",
    "train_test_data.head(3)"
   ]
  },
  {
   "cell_type": "code",
   "execution_count": 1818,
   "metadata": {},
   "outputs": [
    {
     "data": {
      "text/plain": [
       "Age             263\n",
       "Cabin          1014\n",
       "Dataset           0\n",
       "Embarked          0\n",
       "Fare              0\n",
       "Name              0\n",
       "Parch             0\n",
       "PassengerId       0\n",
       "Pclass            0\n",
       "Sex               0\n",
       "SibSp             0\n",
       "Survived          0\n",
       "Ticket            0\n",
       "Title             0\n",
       "dtype: int64"
      ]
     },
     "execution_count": 1818,
     "metadata": {},
     "output_type": "execute_result"
    }
   ],
   "source": [
    "train_test_data[\"Fare\"] = train_test_data.groupby(by = [\"Pclass\"])[\"Fare\"].transform(lambda x:x.fillna(x.mean()))\n",
    "test.loc[test.PassengerId.isin(missing_age_test.PassengerId),[\"Fare\"]]=missing_age_test.loc[missing_age_test.PassengerId.isin(test.PassengerId),[\"Age\"]].values\n",
    "train_test_data.isnull().sum()"
   ]
  },
  {
   "cell_type": "code",
   "execution_count": 1819,
   "metadata": {},
   "outputs": [
    {
     "data": {
      "text/plain": [
       "<matplotlib.axes._subplots.AxesSubplot at 0x276e6dd45c0>"
      ]
     },
     "execution_count": 1819,
     "metadata": {},
     "output_type": "execute_result"
    },
    {
     "data": {
      "image/png": "[encoded data removed]",
      "text/plain": [
       "<matplotlib.figure.Figure at 0x276e6de9400>"
      ]
     },
     "metadata": {},
     "output_type": "display_data"
    }
   ],
   "source": [
    "sns.boxplot(x=\"Title\",y=\"Age\",data = train_test_data)"
   ]
  },
  {
   "cell_type": "code",
   "execution_count": 1820,
   "metadata": {
    "collapsed": true
   },
   "outputs": [],
   "source": [
    "train_test_data =pd.get_dummies(train_test_data,columns=[\"Pclass\",\"Sex\",\"Embarked\",\"Title\"],drop_first=True)"
   ]
  },
  {
   "cell_type": "code",
   "execution_count": 1822,
   "metadata": {},
   "outputs": [
    {
     "data": {
      "text/plain": [
       "Age                     float64\n",
       "Fare                    float64\n",
       "Parch                     int32\n",
       "PassengerId               int64\n",
       "SibSp                     int32\n",
       "Pclass_2               category\n",
       "Pclass_3               category\n",
       "Sex_male               category\n",
       "Embarked_Q             category\n",
       "Embarked_S             category\n",
       "Title_ Col             category\n",
       "Title_ Don             category\n",
       "Title_ Dona            category\n",
       "Title_ Dr              category\n",
       "Title_ Jonkheer        category\n",
       "Title_ Lady            category\n",
       "Title_ Major           category\n",
       "Title_ Master          category\n",
       "Title_ Miss            category\n",
       "Title_ Mlle            category\n",
       "Title_ Mme             category\n",
       "Title_ Mr              category\n",
       "Title_ Mrs             category\n",
       "Title_ Ms              category\n",
       "Title_ Rev             category\n",
       "Title_ Sir             category\n",
       "Title_ the Countess    category\n",
       "dtype: object"
      ]
     },
     "execution_count": 1822,
     "metadata": {},
     "output_type": "execute_result"
    }
   ],
   "source": [
    "X_test= train_test_data.drop([\"Ticket\",\"Cabin\",\"Survived\",\"Name\",\"Dataset\"], axis=1)\n",
    "Y_test = train_test_data[\"Survived\"]\n",
    "X_test['SibSp']=X_test['SibSp'].astype('int')\n",
    "X_test['Parch']=X_test['Parch'].astype('int')\n",
    "X_test['Pclass_2']=X_test['Pclass_2'].astype('category')\n",
    "X_test['Pclass_3']=X_test['Pclass_3'].astype('category')\n",
    "X_test['Sex_male']=X_test['Sex_male'].astype('category')\n",
    "X_test['Embarked_Q']=X_test['Embarked_Q'].astype('category')\n",
    "X_test['Embarked_S']=X_test['Embarked_S'].astype('category')\n",
    "X_test['Title_ Col']=X_test['Title_ Col'].astype('category')\n",
    "X_test['Title_ Don']=X_test['Title_ Don'].astype('category')\n",
    "X_test['Title_ Dona']=X_test['Title_ Dona'].astype('category')\n",
    "X_test['Title_ Dr']=X_test['Title_ Dr'].astype('category')\n",
    "X_test['Title_ Jonkheer']=X_test['Title_ Jonkheer'].astype('category')\n",
    "X_test['Title_ Lady']=X_test['Title_ Lady'].astype('category')\n",
    "X_test['Title_ Major']=X_test['Title_ Major'].astype('category')\n",
    "X_test['Title_ Master']=X_test['Title_ Master'].astype('category')\n",
    "X_test['Title_ Miss']=X_test['Title_ Miss'].astype('category')\n",
    "X_test['Title_ Mme']=X_test['Title_ Mme'].astype('category')\n",
    "X_test['Title_ Mlle']=X_test['Title_ Mlle'].astype('category')\n",
    "X_test['Title_ Mr']=X_test['Title_ Mr'].astype('category')\n",
    "X_test['Title_ Mrs']=X_test['Title_ Mrs'].astype('category')\n",
    "X_test['Title_ Ms']=X_test['Title_ Ms'].astype('category')\n",
    "X_test['Title_ Mr']=X_test['Title_ Mr'].astype('category')\n",
    "X_test['Title_ Rev']=X_test['Title_ Rev'].astype('category')\n",
    "X_test['Title_ Sir']=X_test['Title_ Sir'].astype('category')\n",
    "X_test['Title_ the Countess']=X_test['Title_ the Countess'].astype('category')\n",
    "X_test.dtypes"
   ]
  },
  {
   "cell_type": "code",
   "execution_count": 1823,
   "metadata": {},
   "outputs": [
    {
     "name": "stderr",
     "output_type": "stream",
     "text": [
      "C:\\Users\\Prajakta\\Anaconda3\\lib\\site-packages\\ipykernel_launcher.py:2: SettingWithCopyWarning: \n",
      "A value is trying to be set on a copy of a slice from a DataFrame.\n",
      "Try using .loc[row_indexer,col_indexer] = value instead\n",
      "\n",
      "See the caveats in the documentation: http://pandas.pydata.org/pandas-docs/stable/indexing.html#indexing-view-versus-copy\n",
      "  \n",
      "C:\\Users\\Prajakta\\Anaconda3\\lib\\site-packages\\ipykernel_launcher.py:23: DataConversionWarning: A column-vector y was passed when a 1d array was expected. Please change the shape of y to (n_samples,), for example using ravel().\n"
     ]
    },
    {
     "name": "stdout",
     "output_type": "stream",
     "text": [
      "0.532220472454\n"
     ]
    },
    {
     "name": "stderr",
     "output_type": "stream",
     "text": [
      "C:\\Users\\Prajakta\\Anaconda3\\lib\\site-packages\\ipykernel_launcher.py:29: SettingWithCopyWarning: \n",
      "A value is trying to be set on a copy of a slice from a DataFrame.\n",
      "Try using .loc[row_indexer,col_indexer] = value instead\n",
      "\n",
      "See the caveats in the documentation: http://pandas.pydata.org/pandas-docs/stable/indexing.html#indexing-view-versus-copy\n"
     ]
    }
   ],
   "source": [
    "missing_age_test = X_test[X_test[\"Age\"].isnull()]\n",
    "missing_age_test['PassengerId'] = X_test[X_test[\"Age\"].isnull()][\"PassengerId\"]\n",
    "X_missing_age_test = missing_age_test.drop([\"Age\",\"PassengerId\",\"Embarked_Q\",\"Embarked_S\",\"Fare\"],axis = 1)\n",
    "Y_missing_age_test = missing_age_test[[\"Age\"]]\n",
    "\n",
    "non_missing_age_test = X_test[X_test[\"Age\"].notnull()]\n",
    "X_non_missing_age_test = non_missing_age_test.drop([\"Age\",\"PassengerId\",\"Embarked_Q\",\"Embarked_S\",\"Fare\"],axis = 1)\n",
    "Y_non_missing_age_test = non_missing_age_test[[\"Age\"]]\n",
    "\n",
    "\"\"\"\n",
    "#Linear Regression\n",
    "classifier_LR = LinearRegression()\n",
    "classifier_LR.fit(X_non_missing_age_test,Y_non_missing_age_test)\n",
    "accuracy = classifier_LR.score(X_non_missing_age_test,Y_non_missing_age_test)\n",
    "#print(accuracy)\n",
    "\n",
    "forecast_age=classifier_LR.predict(X_missing_age_test)\n",
    "missing_age_test[\"Age\"] = forecast_age\"\"\"\n",
    "\n",
    "#Random Forest Classification\n",
    "from sklearn.ensemble import RandomForestRegressor\n",
    "regressor_RF = RandomForestRegressor(n_estimators = 10, random_state = 0)\n",
    "regressor_RF.fit(X_non_missing_age_test,Y_non_missing_age_test)\n",
    "accuracy = regressor_RF.score(X_non_missing_age_test,Y_non_missing_age_test)\n",
    "\n",
    "\n",
    "# Predicting a new result\n",
    "forecast_age = regressor_RF.predict(X_missing_age_test)\n",
    "missing_age_test[\"Age\"] = forecast_age\n",
    "\n",
    "\n",
    "data.loc[data.PassengerId.isin(missing_age_test.PassengerId),[\"Age\"]]=missing_age_test.loc[missing_age_test.PassengerId.isin(data.PassengerId),[\"Age\"]].values\n",
    "test.loc[test.PassengerId.isin(missing_age_test.PassengerId),[\"Age\"]]=missing_age_test.loc[missing_age_test.PassengerId.isin(test.PassengerId),[\"Age\"]].values\n",
    "print(accuracy)"
   ]
  },
  {
   "cell_type": "code",
   "execution_count": 1824,
   "metadata": {},
   "outputs": [
    {
     "data": {
      "text/html": [
       "<div>\n",
       "<style>\n",
       "    .dataframe thead tr:only-child th {\n",
       "        text-align: right;\n",
       "    }\n",
       "\n",
       "    .dataframe thead th {\n",
       "        text-align: left;\n",
       "    }\n",
       "\n",
       "    .dataframe tbody tr th {\n",
       "        vertical-align: top;\n",
       "    }\n",
       "</style>\n",
       "<table border=\"1\" class=\"dataframe\">\n",
       "  <thead>\n",
       "    <tr style=\"text-align: right;\">\n",
       "      <th></th>\n",
       "      <th>PassengerId</th>\n",
       "      <th>Age</th>\n",
       "      <th>SibSp</th>\n",
       "      <th>Parch</th>\n",
       "      <th>Fare</th>\n",
       "    </tr>\n",
       "  </thead>\n",
       "  <tbody>\n",
       "    <tr>\n",
       "      <th>count</th>\n",
       "      <td>889.000000</td>\n",
       "      <td>889.000000</td>\n",
       "      <td>889.000000</td>\n",
       "      <td>889.000000</td>\n",
       "      <td>889.000000</td>\n",
       "    </tr>\n",
       "    <tr>\n",
       "      <th>mean</th>\n",
       "      <td>446.000000</td>\n",
       "      <td>29.390383</td>\n",
       "      <td>0.524184</td>\n",
       "      <td>0.382452</td>\n",
       "      <td>32.096681</td>\n",
       "    </tr>\n",
       "    <tr>\n",
       "      <th>std</th>\n",
       "      <td>256.998173</td>\n",
       "      <td>13.531414</td>\n",
       "      <td>1.103705</td>\n",
       "      <td>0.806761</td>\n",
       "      <td>49.697504</td>\n",
       "    </tr>\n",
       "    <tr>\n",
       "      <th>min</th>\n",
       "      <td>1.000000</td>\n",
       "      <td>0.420000</td>\n",
       "      <td>0.000000</td>\n",
       "      <td>0.000000</td>\n",
       "      <td>0.000000</td>\n",
       "    </tr>\n",
       "    <tr>\n",
       "      <th>25%</th>\n",
       "      <td>224.000000</td>\n",
       "      <td>21.000000</td>\n",
       "      <td>0.000000</td>\n",
       "      <td>0.000000</td>\n",
       "      <td>7.895800</td>\n",
       "    </tr>\n",
       "    <tr>\n",
       "      <th>50%</th>\n",
       "      <td>446.000000</td>\n",
       "      <td>28.654175</td>\n",
       "      <td>0.000000</td>\n",
       "      <td>0.000000</td>\n",
       "      <td>14.454200</td>\n",
       "    </tr>\n",
       "    <tr>\n",
       "      <th>75%</th>\n",
       "      <td>668.000000</td>\n",
       "      <td>36.996585</td>\n",
       "      <td>1.000000</td>\n",
       "      <td>0.000000</td>\n",
       "      <td>31.000000</td>\n",
       "    </tr>\n",
       "    <tr>\n",
       "      <th>max</th>\n",
       "      <td>891.000000</td>\n",
       "      <td>80.000000</td>\n",
       "      <td>8.000000</td>\n",
       "      <td>6.000000</td>\n",
       "      <td>512.329200</td>\n",
       "    </tr>\n",
       "  </tbody>\n",
       "</table>\n",
       "</div>"
      ],
      "text/plain": [
       "       PassengerId         Age       SibSp       Parch        Fare\n",
       "count   889.000000  889.000000  889.000000  889.000000  889.000000\n",
       "mean    446.000000   29.390383    0.524184    0.382452   32.096681\n",
       "std     256.998173   13.531414    1.103705    0.806761   49.697504\n",
       "min       1.000000    0.420000    0.000000    0.000000    0.000000\n",
       "25%     224.000000   21.000000    0.000000    0.000000    7.895800\n",
       "50%     446.000000   28.654175    0.000000    0.000000   14.454200\n",
       "75%     668.000000   36.996585    1.000000    0.000000   31.000000\n",
       "max     891.000000   80.000000    8.000000    6.000000  512.329200"
      ]
     },
     "execution_count": 1824,
     "metadata": {},
     "output_type": "execute_result"
    }
   ],
   "source": [
    "data.describe()"
   ]
  },
  {
   "cell_type": "code",
   "execution_count": 1825,
   "metadata": {
    "scrolled": false
   },
   "outputs": [
    {
     "data": {
      "text/plain": [
       "<matplotlib.axes._subplots.AxesSubplot at 0x276d8609d30>"
      ]
     },
     "execution_count": 1825,
     "metadata": {},
     "output_type": "execute_result"
    },
    {
     "data": {
      "image/png": "[encoded data removed]",
      "text/plain": [
       "<matplotlib.figure.Figure at 0x276e70beac8>"
      ]
     },
     "metadata": {},
     "output_type": "display_data"
    }
   ],
   "source": [
    "sns.heatmap(data=data.isnull(),yticklabels=False, cbar=False,cmap='binary')"
   ]
  },
  {
   "cell_type": "code",
   "execution_count": 1826,
   "metadata": {},
   "outputs": [
    {
     "data": {
      "text/plain": [
       "PassengerId      0\n",
       "Survived         0\n",
       "Pclass           0\n",
       "Name             0\n",
       "Sex              0\n",
       "Age              0\n",
       "SibSp            0\n",
       "Parch            0\n",
       "Ticket           0\n",
       "Fare             0\n",
       "Cabin          687\n",
       "Embarked         0\n",
       "Dataset          0\n",
       "dtype: int64"
      ]
     },
     "execution_count": 1826,
     "metadata": {},
     "output_type": "execute_result"
    }
   ],
   "source": [
    "data.isnull().sum()"
   ]
  },
  {
   "cell_type": "code",
   "execution_count": 1827,
   "metadata": {},
   "outputs": [
    {
     "data": {
      "text/plain": [
       "<matplotlib.axes._subplots.AxesSubplot at 0x276e6df2b38>"
      ]
     },
     "execution_count": 1827,
     "metadata": {},
     "output_type": "execute_result"
    },
    {
     "data": {
      "image/png": "[encoded data removed]",
      "text/plain": [
       "<matplotlib.figure.Figure at 0x276e6dd3e48>"
      ]
     },
     "metadata": {},
     "output_type": "display_data"
    }
   ],
   "source": [
    "sns.boxplot(x=\"Pclass\",y=\"Fare\",data = test)"
   ]
  },
  {
   "cell_type": "code",
   "execution_count": 1828,
   "metadata": {},
   "outputs": [
    {
     "data": {
      "image/png": "[encoded data removed]",
      "text/plain": [
       "<matplotlib.figure.Figure at 0x276e6dd37f0>"
      ]
     },
     "metadata": {},
     "output_type": "display_data"
    }
   ],
   "source": [
    "data.hist()\n",
    "plt.show()"
   ]
  },
  {
   "cell_type": "code",
   "execution_count": 1829,
   "metadata": {},
   "outputs": [
    {
     "data": {
      "image/png": "[encoded data removed]",
      "text/plain": [
       "<matplotlib.figure.Figure at 0x276e6cc9518>"
      ]
     },
     "metadata": {},
     "output_type": "display_data"
    }
   ],
   "source": [
    "data.plot(kind='density',subplots=True,sharex=False)\n",
    "plt.show()"
   ]
  },
  {
   "cell_type": "code",
   "execution_count": 1830,
   "metadata": {},
   "outputs": [
    {
     "data": {
      "image/png": "[encoded data removed]",
      "text/plain": [
       "<matplotlib.figure.Figure at 0x276c3194710>"
      ]
     },
     "metadata": {},
     "output_type": "display_data"
    }
   ],
   "source": [
    "from pandas.plotting import scatter_matrix\n",
    "scatter_matrix(data)\n",
    "plt.show()"
   ]
  },
  {
   "cell_type": "code",
   "execution_count": 1831,
   "metadata": {
    "scrolled": true
   },
   "outputs": [
    {
     "data": {
      "text/plain": [
       "(array([  42.,   21.,   16.,   34.,   87.,  117.,   95.,  176.,   76.,\n",
       "          54.,   55.,   36.,   30.,   16.,   13.,   10.,    4.,    5.,\n",
       "           1.,    1.]),\n",
       " array([  0.42 ,   4.399,   8.378,  12.357,  16.336,  20.315,  24.294,\n",
       "         28.273,  32.252,  36.231,  40.21 ,  44.189,  48.168,  52.147,\n",
       "         56.126,  60.105,  64.084,  68.063,  72.042,  76.021,  80.   ]),\n",
       " <a list of 20 Patch objects>)"
      ]
     },
     "execution_count": 1831,
     "metadata": {},
     "output_type": "execute_result"
    },
    {
     "data": {
      "image/png": "[encoded data removed]",
      "text/plain": [
       "<matplotlib.figure.Figure at 0x276e6fcb198>"
      ]
     },
     "metadata": {},
     "output_type": "display_data"
    }
   ],
   "source": [
    "plt.hist(data[\"Age\"].dropna(),bins=20,facecolor=\"blue\",alpha = 0.3)"
   ]
  },
  {
   "cell_type": "code",
   "execution_count": 1832,
   "metadata": {
    "collapsed": true
   },
   "outputs": [],
   "source": [
    "data =pd.get_dummies(data,columns=[\"Pclass\",\"Sex\",\"Embarked\"],drop_first=True)\n",
    "#data.drop(['Title','Name'],axis=1,inplace=True)"
   ]
  },
  {
   "cell_type": "code",
   "execution_count": 1833,
   "metadata": {},
   "outputs": [
    {
     "data": {
      "text/plain": [
       "PassengerId       int64\n",
       "Survived       category\n",
       "Name             object\n",
       "Age             float64\n",
       "SibSp             int64\n",
       "Parch             int64\n",
       "Ticket           object\n",
       "Fare            float64\n",
       "Cabin            object\n",
       "Dataset          object\n",
       "Pclass_2          uint8\n",
       "Pclass_3          uint8\n",
       "Sex_male          uint8\n",
       "Embarked_Q        uint8\n",
       "Embarked_S        uint8\n",
       "dtype: object"
      ]
     },
     "execution_count": 1833,
     "metadata": {},
     "output_type": "execute_result"
    }
   ],
   "source": [
    "#data.drop(['Name'],axis=1,inplace=True)\n",
    "data.dtypes"
   ]
  },
  {
   "cell_type": "code",
   "execution_count": 1834,
   "metadata": {},
   "outputs": [
    {
     "data": {
      "text/html": [
       "<div>\n",
       "<style>\n",
       "    .dataframe thead tr:only-child th {\n",
       "        text-align: right;\n",
       "    }\n",
       "\n",
       "    .dataframe thead th {\n",
       "        text-align: left;\n",
       "    }\n",
       "\n",
       "    .dataframe tbody tr th {\n",
       "        vertical-align: top;\n",
       "    }\n",
       "</style>\n",
       "<table border=\"1\" class=\"dataframe\">\n",
       "  <thead>\n",
       "    <tr style=\"text-align: right;\">\n",
       "      <th></th>\n",
       "      <th>Survived</th>\n",
       "      <th>Age</th>\n",
       "      <th>SibSp</th>\n",
       "      <th>Parch</th>\n",
       "      <th>Fare</th>\n",
       "      <th>Pclass_2</th>\n",
       "      <th>Pclass_3</th>\n",
       "      <th>Sex_male</th>\n",
       "      <th>Embarked_Q</th>\n",
       "      <th>Embarked_S</th>\n",
       "    </tr>\n",
       "  </thead>\n",
       "  <tbody>\n",
       "    <tr>\n",
       "      <th>0</th>\n",
       "      <td>0</td>\n",
       "      <td>22.0</td>\n",
       "      <td>1</td>\n",
       "      <td>0</td>\n",
       "      <td>7.2500</td>\n",
       "      <td>0</td>\n",
       "      <td>1</td>\n",
       "      <td>1</td>\n",
       "      <td>0</td>\n",
       "      <td>1</td>\n",
       "    </tr>\n",
       "    <tr>\n",
       "      <th>1</th>\n",
       "      <td>1</td>\n",
       "      <td>38.0</td>\n",
       "      <td>1</td>\n",
       "      <td>0</td>\n",
       "      <td>71.2833</td>\n",
       "      <td>0</td>\n",
       "      <td>0</td>\n",
       "      <td>0</td>\n",
       "      <td>0</td>\n",
       "      <td>0</td>\n",
       "    </tr>\n",
       "    <tr>\n",
       "      <th>2</th>\n",
       "      <td>1</td>\n",
       "      <td>26.0</td>\n",
       "      <td>0</td>\n",
       "      <td>0</td>\n",
       "      <td>7.9250</td>\n",
       "      <td>0</td>\n",
       "      <td>1</td>\n",
       "      <td>0</td>\n",
       "      <td>0</td>\n",
       "      <td>1</td>\n",
       "    </tr>\n",
       "  </tbody>\n",
       "</table>\n",
       "</div>"
      ],
      "text/plain": [
       "  Survived   Age  SibSp  Parch     Fare Pclass_2 Pclass_3 Sex_male Embarked_Q  \\\n",
       "0        0  22.0      1      0   7.2500        0        1        1          0   \n",
       "1        1  38.0      1      0  71.2833        0        0        0          0   \n",
       "2        1  26.0      0      0   7.9250        0        1        0          0   \n",
       "\n",
       "  Embarked_S  \n",
       "0          1  \n",
       "1          0  \n",
       "2          1  "
      ]
     },
     "execution_count": 1834,
     "metadata": {},
     "output_type": "execute_result"
    }
   ],
   "source": [
    "data.drop(['Name','PassengerId','Ticket','Cabin','Dataset'],axis=1,inplace=True)\n",
    "data['Pclass_2']=data['Pclass_2'].astype('category')\n",
    "data['Pclass_3']=data['Pclass_3'].astype('category')\n",
    "data['Sex_male']=data['Sex_male'].astype('category')\n",
    "data['Embarked_Q']=data['Embarked_Q'].astype('category')\n",
    "data['Embarked_S']=data['Embarked_S'].astype('category')\n",
    "\"\"\"data['Title_ Col']=data['Title_ Col'].astype('category')\n",
    "data['Title_ Don']=data['Title_ Don'].astype('category')\n",
    "data['Title_ Dr']=data['Title_ Dr'].astype('category')\n",
    "data['Title_ Jonkheer']=data['Title_ Jonkheer'].astype('category')\n",
    "data['Title_ Lady']=data['Title_ Lady'].astype('category')\n",
    "data['Title_ Major']=data['Title_ Major'].astype('category')\n",
    "data['Title_ Master']=data['Title_ Master'].astype('category')\n",
    "data['Title_ Miss']=data['Title_ Miss'].astype('category')\n",
    "data['Title_ Mme']=data['Title_ Mme'].astype('category')\n",
    "data['Title_ Mlle']=data['Title_ Mlle'].astype('category')\n",
    "data['Title_ Mr']=data['Title_ Mr'].astype('category')\n",
    "data['Title_ Mrs']=data['Title_ Mrs'].astype('category')\n",
    "data['Title_ Ms']=data['Title_ Ms'].astype('category')\n",
    "data['Title_ Mr']=data['Title_ Mr'].astype('category')\n",
    "data['Title_ Rev']=data['Title_ Rev'].astype('category')\n",
    "data['Title_ Sir']=data['Title_ Sir'].astype('category')\n",
    "data['Title_ the Countess']=data['Title_ the Countess'].astype('category')\"\"\"\n",
    "data.head(3)\n"
   ]
  },
  {
   "cell_type": "code",
   "execution_count": 1835,
   "metadata": {},
   "outputs": [
    {
     "data": {
      "text/plain": [
       "Survived      0\n",
       "Age           0\n",
       "SibSp         0\n",
       "Parch         0\n",
       "Fare          0\n",
       "Pclass_2      0\n",
       "Pclass_3      0\n",
       "Sex_male      0\n",
       "Embarked_Q    0\n",
       "Embarked_S    0\n",
       "dtype: int64"
      ]
     },
     "execution_count": 1835,
     "metadata": {},
     "output_type": "execute_result"
    }
   ],
   "source": [
    "data['Survived']=data['Survived'].astype('category')\n",
    "data['SibSp']=data['SibSp'].astype('int')\n",
    "data['Parch']=data['Parch'].astype('int')\n",
    "data['Pclass_2']=data['Pclass_2'].astype('category')\n",
    "data['Pclass_3']=data['Pclass_3'].astype('category')\n",
    "data['Sex_male']=data['Sex_male'].astype('category')\n",
    "data['Embarked_Q']=data['Embarked_Q'].astype('category')\n",
    "data['Embarked_S']=data['Embarked_S'].astype('category')\n",
    "data['Age'] = data['Age'].abs()\n",
    "\"\"\"data=data.drop(['Title_ Col','Title_ Don','Title_ Dr','Title_ Jonkheer','Title_ Lady','Title_ Major','Title_ Master'\n",
    "                ,'Title_ Miss','Title_ Mlle','Title_ Mme',\n",
    "                'Title_ Mr','Title_ Mrs','Title_ Ms','Title_ Rev','Title_ Sir','Title_ the Countess'],axis =1)\"\"\"\n",
    "data.isnull().sum()"
   ]
  },
  {
   "cell_type": "code",
   "execution_count": 1836,
   "metadata": {},
   "outputs": [
    {
     "data": {
      "text/plain": [
       "LogisticRegression(C=1.0, class_weight=None, dual=False, fit_intercept=True,\n",
       "          intercept_scaling=1, max_iter=100, multi_class='ovr', n_jobs=1,\n",
       "          penalty='l2', random_state=None, solver='liblinear', tol=0.0001,\n",
       "          verbose=0, warm_start=False)"
      ]
     },
     "execution_count": 1836,
     "metadata": {},
     "output_type": "execute_result"
    }
   ],
   "source": [
    "from sklearn.linear_model import LogisticRegression\n",
    "X= data.drop([\"Survived\",\"Embarked_Q\",\"Embarked_S\",\"Fare\"], axis=1)\n",
    "y= data[\"Survived\"]\n",
    "classifier_log=LogisticRegression()\n",
    "classifier_log.fit(X, y)\n"
   ]
  },
  {
   "cell_type": "code",
   "execution_count": 1837,
   "metadata": {},
   "outputs": [
    {
     "data": {
      "text/plain": [
       "Age            float64\n",
       "SibSp            int32\n",
       "Parch            int32\n",
       "Fare           float64\n",
       "Survived      category\n",
       "Pclass_2      category\n",
       "Pclass_3      category\n",
       "Sex_male      category\n",
       "Embarked_Q    category\n",
       "Embarked_S    category\n",
       "dtype: object"
      ]
     },
     "execution_count": 1837,
     "metadata": {},
     "output_type": "execute_result"
    }
   ],
   "source": [
    "test =pd.get_dummies(test,columns=[\"Pclass\",\"Sex\",\"Embarked\"],drop_first=True)\n",
    "test.drop([\"PassengerId\",\"Name\",\"Ticket\",\"Cabin\",\"Dataset\"],axis=1,inplace=True)\n",
    "test['Survived']=test['Survived'].astype('category')\n",
    "test['SibSp']=test['SibSp'].astype('int')\n",
    "test['Parch']=test['Parch'].astype('int')\n",
    "test['Pclass_2']=test['Pclass_2'].astype('category')\n",
    "test['Pclass_3']=test['Pclass_3'].astype('category')\n",
    "test['Sex_male']=test['Sex_male'].astype('category')\n",
    "test['Embarked_Q']=test['Embarked_Q'].astype('category')\n",
    "test['Embarked_S']=test['Embarked_S'].astype('category')\n",
    "test.dtypes"
   ]
  },
  {
   "cell_type": "code",
   "execution_count": 1838,
   "metadata": {
    "collapsed": true
   },
   "outputs": [],
   "source": [
    "X_test = test.drop([\"Survived\",\"Embarked_Q\",\"Embarked_S\",\"Fare\"], axis=1)\n",
    "pred=classifier_log.predict(X_test)"
   ]
  },
  {
   "cell_type": "code",
   "execution_count": 1839,
   "metadata": {
    "scrolled": true
   },
   "outputs": [
    {
     "name": "stdout",
     "output_type": "stream",
     "text": [
      "Confusion Matrix \n",
      " [[260   6]\n",
      " [  9 143]]\n",
      "\n",
      "Classification Report \n",
      "              precision    recall  f1-score   support\n",
      "\n",
      "          0       0.97      0.98      0.97       266\n",
      "          1       0.96      0.94      0.95       152\n",
      "\n",
      "avg / total       0.96      0.96      0.96       418\n",
      "\n"
     ]
    }
   ],
   "source": [
    "from sklearn.metrics import confusion_matrix, classification_report\n",
    "print(\"Confusion Matrix \\n\",confusion_matrix(test[\"Survived\"], pred))\n",
    "print(\"\\nClassification Report \\n\", classification_report(test[\"Survived\"], pred))"
   ]
  },
  {
   "cell_type": "code",
   "execution_count": 1840,
   "metadata": {},
   "outputs": [
    {
     "name": "stdout",
     "output_type": "stream",
     "text": [
      "Confusion Matrix \n",
      " [[260   6]\n",
      " [  9 143]]\n"
     ]
    },
    {
     "data": {
      "text/plain": [
       "\"from matplotlib.colors import ListedColormap\\nX_set, y_set = X_test, y_pred\\nX1, X2 = np.meshgrid(np.arange(start = X_set[:, 0].min() - 1, stop = X_set[:, 0].max() + 1, step = 0.01),\\n                     np.arange(start = X_set[:, 1].min() - 1, stop = X_set[:, 1].max() + 1, step = 0.01))\\nplt.contourf(X1, X2, classifier.predict(np.array([X1.ravel(), X2.ravel()]).T).reshape(X1.shape),\\n             alpha = 0.75, cmap = ListedColormap(('red', 'green')))\\nplt.xlim(X1.min(), X1.max())\\nplt.ylim(X2.min(), X2.max())\\nfor i, j in enumerate(np.unique(y_set)):\\n    plt.scatter(X_set[y_set == j, 0], X_set[y_set == j, 1],\\n                c = ListedColormap(('red', 'green'))(i), label = j)\\nplt.title('Random Forest Classification (Test set)')\\nplt.xlabel('Age')\\nplt.ylabel('Estimated Salary')\\nplt.legend()\\nplt.show()\""
      ]
     },
     "execution_count": 1840,
     "metadata": {},
     "output_type": "execute_result"
    }
   ],
   "source": [
    "from sklearn.preprocessing import StandardScaler\n",
    "sc = StandardScaler()\n",
    "X_train = sc.fit_transform(X)\n",
    "X_test = sc.transform(X_test)\n",
    "\n",
    "# Fitting Random Forest Classification to the Training set\n",
    "from sklearn.ensemble import RandomForestClassifier\n",
    "classifier_RF = RandomForestClassifier(n_estimators = 100, criterion = 'entropy')\n",
    "classifier_RF.fit(X_train, y)\n",
    "\n",
    "# Predicting the Test set results\n",
    "y_pred = classifier_RF.predict(X_test)\n",
    "\n",
    "# Making the Confusion Matrix\n",
    "from sklearn.metrics import confusion_matrix\n",
    "cm = confusion_matrix(test[\"Survived\"], pred)\n",
    "print(\"Confusion Matrix \\n\",cm)\n",
    "\n",
    "# Visualising the Training set results\n",
    "\"\"\"from matplotlib.colors import ListedColormap\n",
    "X_set, y_set = X_train, y\n",
    "X1, X2 = np.meshgrid(np.arange(start = X_set[:, 0].min() - 1, stop = X_set[:, 0].max() + 1, step = 0.01),\n",
    "                     np.arange(start = X_set[:, 1].min() - 1, stop = X_set[:, 1].max() + 1, step = 0.01))\n",
    "plt.contourf(X1, X2, classifier.predict(np.array([X1.ravel(), X2.ravel()]).T).reshape(X1.shape),\n",
    "             alpha = 0.75, cmap = ListedColormap(('red', 'green')))\n",
    "plt.xlim(X1.min(), X1.max())\n",
    "plt.ylim(X2.min(), X2.max())\n",
    "for i, j in enumerate(np.unique(y_set)):\n",
    "    plt.scatter(X_set[y_set == j, 0], X_set[y_set == j, 1],\n",
    "                c = ListedColormap(('red', 'green'))(i), label = j)\n",
    "plt.title('Random Forest Classification (Training set)')\n",
    "plt.xlabel('Age')\n",
    "plt.ylabel('Estimated Salary')\n",
    "plt.legend()\n",
    "plt.show()\"\"\"\n",
    "\n",
    "# Visualising the Test set results\n",
    "\"\"\"from matplotlib.colors import ListedColormap\n",
    "X_set, y_set = X_test, y_pred\n",
    "X1, X2 = np.meshgrid(np.arange(start = X_set[:, 0].min() - 1, stop = X_set[:, 0].max() + 1, step = 0.01),\n",
    "                     np.arange(start = X_set[:, 1].min() - 1, stop = X_set[:, 1].max() + 1, step = 0.01))\n",
    "plt.contourf(X1, X2, classifier.predict(np.array([X1.ravel(), X2.ravel()]).T).reshape(X1.shape),\n",
    "             alpha = 0.75, cmap = ListedColormap(('red', 'green')))\n",
    "plt.xlim(X1.min(), X1.max())\n",
    "plt.ylim(X2.min(), X2.max())\n",
    "for i, j in enumerate(np.unique(y_set)):\n",
    "    plt.scatter(X_set[y_set == j, 0], X_set[y_set == j, 1],\n",
    "                c = ListedColormap(('red', 'green'))(i), label = j)\n",
    "plt.title('Random Forest Classification (Test set)')\n",
    "plt.xlabel('Age')\n",
    "plt.ylabel('Estimated Salary')\n",
    "plt.legend()\n",
    "plt.show()\"\"\""
   ]
  },
  {
   "cell_type": "code",
   "execution_count": 1841,
   "metadata": {},
   "outputs": [
    {
     "name": "stdout",
     "output_type": "stream",
     "text": [
      "Confusion Matrix \n",
      " [[260   6]\n",
      " [  9 143]]\n"
     ]
    }
   ],
   "source": [
    "from sklearn.naive_bayes import GaussianNB\n",
    "classifier_ = GaussianNB()\n",
    "classifier.fit(X_train, y)\n",
    "\n",
    "# Predicting the Test set results\n",
    "y_pred = classifier.predict(X_test)\n",
    "\n",
    "# Making the Confusion Matrix\n",
    "from sklearn.metrics import confusion_matrix\n",
    "cm = confusion_matrix(test[\"Survived\"], y_pred)\n",
    "print(\"Confusion Matrix \\n\",confusion_matrix(test[\"Survived\"], pred))"
   ]
  },
  {
   "cell_type": "code",
   "execution_count": null,
   "metadata": {
    "collapsed": true
   },
   "outputs": [],
   "source": []
  }
 ],
 "metadata": {
  "kernelspec": {
   "display_name": "Python 3",
   "language": "python",
   "name": "python3"
  },
  "language_info": {
   "codemirror_mode": {
    "name": "ipython",
    "version": 3
   },
   "file_extension": ".py",
   "mimetype": "text/x-python",
   "name": "python",
   "nbconvert_exporter": "python",
   "pygments_lexer": "ipython3",
   "version": "3.6.2"
  }
 },
 "nbformat": 4,
 "nbformat_minor": 2
}
